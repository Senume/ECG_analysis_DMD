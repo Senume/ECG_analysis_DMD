{
 "cells": [
  {
   "cell_type": "markdown",
   "metadata": {},
   "source": [
    "### **IMPORTING LIBRARY**"
   ]
  },
  {
   "cell_type": "code",
   "execution_count": 1,
   "metadata": {},
   "outputs": [],
   "source": [
    "import numpy as np\n",
    "import scipy as sp\n",
    "import wfdb as wf"
   ]
  },
  {
   "cell_type": "markdown",
   "metadata": {},
   "source": [
    "### **READING DATASET**"
   ]
  },
  {
   "cell_type": "code",
   "execution_count": 20,
   "metadata": {},
   "outputs": [
    {
     "ename": "IndexError",
     "evalue": "index 345658 is out of bounds for axis 0 with size 345600",
     "output_type": "error",
     "traceback": [
      "\u001b[0;31m---------------------------------------------------------------------------\u001b[0m",
      "\u001b[0;31mIndexError\u001b[0m                                Traceback (most recent call last)",
      "\u001b[1;32m/home/senume/Project/MIS/mis-ECG_analysis_DMD/src/ECG_analysis_DMD.ipynb Cell 4\u001b[0m in \u001b[0;36m<cell line: 2>\u001b[0;34m()\u001b[0m\n\u001b[1;32m      <a href='vscode-notebook-cell://wsl%2Bubuntu/home/senume/Project/MIS/mis-ECG_analysis_DMD/src/ECG_analysis_DMD.ipynb#W3sdnNjb2RlLXJlbW90ZQ%3D%3D?line=0'>1</a>\u001b[0m record \u001b[39m=\u001b[39m wf\u001b[39m.\u001b[39mrdrecord(\u001b[39m'\u001b[39m\u001b[39m/home/senume/Project/MIS/mis-ECG_analysis_DMD/DATASET/patient001/s0016lre\u001b[39m\u001b[39m'\u001b[39m,channels \u001b[39m=\u001b[39m [\u001b[39m0\u001b[39m,\u001b[39m5\u001b[39m]) \n\u001b[0;32m----> <a href='vscode-notebook-cell://wsl%2Bubuntu/home/senume/Project/MIS/mis-ECG_analysis_DMD/src/ECG_analysis_DMD.ipynb#W3sdnNjb2RlLXJlbW90ZQ%3D%3D?line=1'>2</a>\u001b[0m annotation \u001b[39m=\u001b[39m wf\u001b[39m.\u001b[39;49mrdann(\u001b[39m'\u001b[39;49m\u001b[39m/home/senume/Project/MIS/mis-ECG_analysis_DMD/DATASET/patient001/s0016lre\u001b[39;49m\u001b[39m'\u001b[39;49m, \u001b[39m'\u001b[39;49m\u001b[39mxyz\u001b[39;49m\u001b[39m'\u001b[39;49m)\n\u001b[1;32m      <a href='vscode-notebook-cell://wsl%2Bubuntu/home/senume/Project/MIS/mis-ECG_analysis_DMD/src/ECG_analysis_DMD.ipynb#W3sdnNjb2RlLXJlbW90ZQ%3D%3D?line=2'>3</a>\u001b[0m wf\u001b[39m.\u001b[39mplot_wfdb(record, annotation\u001b[39m=\u001b[39mannotation,title\u001b[39m=\u001b[39m\u001b[39m'\u001b[39m\u001b[39mRecord a01 from Physionet Apnea ECG\u001b[39m\u001b[39m'\u001b[39m) \n\u001b[1;32m      <a href='vscode-notebook-cell://wsl%2Bubuntu/home/senume/Project/MIS/mis-ECG_analysis_DMD/src/ECG_analysis_DMD.ipynb#W3sdnNjb2RlLXJlbW90ZQ%3D%3D?line=3'>4</a>\u001b[0m \u001b[39mprint\u001b[39m(record)\n",
      "File \u001b[0;32m~/anaconda3/envs/mis-ECG_analysis_DMD/lib/python3.8/site-packages/wfdb/io/annotation.py:1941\u001b[0m, in \u001b[0;36mrdann\u001b[0;34m(record_name, extension, sampfrom, sampto, shift_samps, pn_dir, return_label_elements, summarize_labels)\u001b[0m\n\u001b[1;32m   1938\u001b[0m filebytes \u001b[39m=\u001b[39m load_byte_pairs(record_name, extension, pn_dir)\n\u001b[1;32m   1940\u001b[0m \u001b[39m# Get WFDB annotation fields from the file bytes\u001b[39;00m\n\u001b[0;32m-> 1941\u001b[0m (sample, label_store, subtype, chan, num, aux_note) \u001b[39m=\u001b[39m proc_ann_bytes(\n\u001b[1;32m   1942\u001b[0m     filebytes, sampto\n\u001b[1;32m   1943\u001b[0m )\n\u001b[1;32m   1945\u001b[0m \u001b[39m# Get the indices of annotations that hold definition information about\u001b[39;00m\n\u001b[1;32m   1946\u001b[0m \u001b[39m# the entire annotation file, and other empty annotations to be removed.\u001b[39;00m\n\u001b[1;32m   1947\u001b[0m potential_definition_inds, rm_inds \u001b[39m=\u001b[39m get_special_inds(\n\u001b[1;32m   1948\u001b[0m     sample, label_store, aux_note\n\u001b[1;32m   1949\u001b[0m )\n",
      "File \u001b[0;32m~/anaconda3/envs/mis-ECG_analysis_DMD/lib/python3.8/site-packages/wfdb/io/annotation.py:2168\u001b[0m, in \u001b[0;36mproc_ann_bytes\u001b[0;34m(filebytes, sampto)\u001b[0m\n\u001b[1;32m   2156\u001b[0m \u001b[39mwhile\u001b[39;00m current_label_store \u001b[39m>\u001b[39m \u001b[39m59\u001b[39m:\n\u001b[1;32m   2157\u001b[0m     subtype, chan, num, aux_note, update, bpi \u001b[39m=\u001b[39m proc_extra_field(\n\u001b[1;32m   2158\u001b[0m         current_label_store,\n\u001b[1;32m   2159\u001b[0m         filebytes,\n\u001b[0;32m   (...)\u001b[0m\n\u001b[1;32m   2165\u001b[0m         update,\n\u001b[1;32m   2166\u001b[0m     )\n\u001b[0;32m-> 2168\u001b[0m     current_label_store \u001b[39m=\u001b[39m filebytes[bpi, \u001b[39m1\u001b[39;49m] \u001b[39m>>\u001b[39m \u001b[39m2\u001b[39m\n\u001b[1;32m   2170\u001b[0m \u001b[39m# Set defaults or carry over previous values if necessary\u001b[39;00m\n\u001b[1;32m   2171\u001b[0m subtype, chan, num, aux_note \u001b[39m=\u001b[39m update_extra_fields(\n\u001b[1;32m   2172\u001b[0m     subtype, chan, num, aux_note, update\n\u001b[1;32m   2173\u001b[0m )\n",
      "\u001b[0;31mIndexError\u001b[0m: index 345658 is out of bounds for axis 0 with size 345600"
     ]
    }
   ],
   "source": [
    "record = wf.rdrecord('/home/senume/Project/MIS/mis-ECG_analysis_DMD/DATASET/patient001/s0016lre',channels = [0,5]) \n",
    "wf.plot_wfdb(record,title='Record a01 from Physionet Apnea ECG') \n",
    "print(record)\n",
    "display(record.__dict__)"
   ]
  }
 ],
 "metadata": {
  "kernelspec": {
   "display_name": "Python 3.8.15 ('mis-ECG_analysis_DMD')",
   "language": "python",
   "name": "python3"
  },
  "language_info": {
   "codemirror_mode": {
    "name": "ipython",
    "version": 3
   },
   "file_extension": ".py",
   "mimetype": "text/x-python",
   "name": "python",
   "nbconvert_exporter": "python",
   "pygments_lexer": "ipython3",
   "version": "3.8.13"
  },
  "orig_nbformat": 4,
  "vscode": {
   "interpreter": {
    "hash": "52963b587970739f8bf0ef077359689988f9acab5854b35f2ef3fa01603820cf"
   }
  }
 },
 "nbformat": 4,
 "nbformat_minor": 2
}
