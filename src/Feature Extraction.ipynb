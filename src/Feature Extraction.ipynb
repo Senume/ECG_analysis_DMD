{
 "cells": [
  {
   "cell_type": "code",
   "execution_count": 10,
   "metadata": {},
   "outputs": [],
   "source": [
    "from numpy import dot, multiply, diag, power\n",
    "from scipy.linalg import svd, svdvals\n",
    "import numpy as np\n",
    "from pydmd import DMD\n",
    "import wfdb as wf"
   ]
  },
  {
   "cell_type": "code",
   "execution_count": 11,
   "metadata": {},
   "outputs": [],
   "source": [
    "def Atilde_Eig(s):\n",
    "    dmd = DMD(svd_rank=15)\n",
    "    dmd.fit(s.T)\n",
    "    At=dmd.atilde\n",
    "    #[u,v]=np.linalg.eig(At)\n",
    "    u=dmd.eigs\n",
    "    v=dmd.modes\n",
    "    return u,v;\n",
    "\n",
    "def cal_R_P(u,v):\n",
    "    D=np.count_nonzero(u[:]>1)\n",
    "    tot_DMs=u.shape[0]\n",
    "    C=tot_DMs-D\n",
    "    R_N=D/(D+C)\n",
    "\n",
    "    lambda_max=u.max()\n",
    "    lambda_min=u.min()\n",
    "\n",
    "    R_lambda= np.sum(abs(u[u[:]>1]))/np.sum(abs(u[u[:]>1]))+np.sum(abs(u[u[:]<1]))\n",
    "    lambda_max=u.max()\n",
    "    lambda_min=u.min()\n",
    "    #stores indexes of the stable and unstable DMs\n",
    "    u_stable=np.where(abs(u<1))[0]\n",
    "    u_unstable=np.where(abs(u>1))[0]\n",
    "\n",
    "    R_MD=t_R_MD=t_R_PD=R_MC=R_PD=t_R_PC=R_PC=t_R_MC=0\n",
    "    for l in range (0,11):\n",
    "        for d in u_unstable:\n",
    "            #print(l,d,v[l,d])\n",
    "            t_R_MD=t_R_MD+abs(v[l,d])\n",
    "            t_R_PD=t_R_PD+np.angle(v[l,d],deg=0)\n",
    "        R_MD=R_MD+t_R_MD\n",
    "        R_PD=R_PD+t_R_PD\n",
    "        for c in u_stable:\n",
    "            #print(l,c,v[l,c])\n",
    "            t_R_MC=t_R_MC+abs(v[l,c])\n",
    "            t_R_PC=t_R_PC+np.angle(v[l,c],deg=0)\n",
    "        R_MC=R_MC+t_R_MC\n",
    "        R_PC=R_PC+t_R_PC\n",
    "\n",
    "    R_M=R_MD/(R_MD+R_MC)\n",
    "    R_P=R_PD/(R_PD+R_PC)\n",
    "\n",
    "    P_lead_C=M_lead_C=0\n",
    "    for c in u_stable:\n",
    "        #print(v[:,c].shape)\n",
    "        M_lead_C=M_lead_C+abs(v[0:12,c])\n",
    "        P_lead_C=P_lead_C+np.angle(v[0:12,c])\n",
    "    # print(M_lead_C.shape,P_lead_C.shape)\n",
    "\n",
    "    P_lead_D=M_lead_D=0\n",
    "    for d in u_unstable:\n",
    "        #print(v[:,c].shape)\n",
    "        M_lead_D=M_lead_D+abs(v[0:12,d])\n",
    "        P_lead_D=P_lead_D+np.angle(v[0:12,d])\n",
    "    # print(M_lead_D.shape,P_lead_D.shape)\n",
    "    return R_N,R_lambda,lambda_min,lambda_max,R_M,R_P,M_lead_C,P_lead_C,M_lead_D,M_lead_C\n",
    "    \n",
    "    "
   ]
  },
  {
   "cell_type": "code",
   "execution_count": 12,
   "metadata": {},
   "outputs": [
    {
     "name": "stderr",
     "output_type": "stream",
     "text": [
      "/var/folders/zc/j75hd02j5w93h_k2m1fg9ghr0000gn/T/ipykernel_8835/881495093.py:19: RuntimeWarning: invalid value encountered in double_scalars\n",
      "  R_lambda= np.sum(abs(u[u[:]>1]))/np.sum(abs(u[u[:]>1]))+np.sum(abs(u[u[:]<1]))\n"
     ]
    },
    {
     "data": {
      "text/plain": [
       "0.0"
      ]
     },
     "execution_count": 12,
     "metadata": {},
     "output_type": "execute_result"
    }
   ],
   "source": [
    "s,f=wf.rdsamp('/Users/bhoomikamadhavaraj/Downloads/s0014lre')\n",
    "[u,v]=Atilde_Eig(s)\n",
    "# u[5]=2\n",
    "R_N,R_lambda,lambda_min,lambda_max,R_M,R_P,M_lead_C,P_lead_C,M_lead_D,M_lead_C=cal_R_P(u,v)\n",
    "M"
   ]
  }
 ],
 "metadata": {
  "kernelspec": {
   "display_name": "Python 3.9.6 64-bit",
   "language": "python",
   "name": "python3"
  },
  "language_info": {
   "codemirror_mode": {
    "name": "ipython",
    "version": 3
   },
   "file_extension": ".py",
   "mimetype": "text/x-python",
   "name": "python",
   "nbconvert_exporter": "python",
   "pygments_lexer": "ipython3",
   "version": "3.8.10"
  },
  "orig_nbformat": 4,
  "vscode": {
   "interpreter": {
    "hash": "31f2aee4e71d21fbe5cf8b01ff0e069b9275f58929596ceb00d14d90e3e16cd6"
   }
  }
 },
 "nbformat": 4,
 "nbformat_minor": 2
}
